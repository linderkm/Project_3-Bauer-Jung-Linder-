{
 "cells": [
  {
   "cell_type": "code",
   "execution_count": 1,
   "id": "b2112171-c8da-4d30-b885-4bfd58d0ae34",
   "metadata": {},
   "outputs": [],
   "source": [
    "import psycopg2\n",
    "import pandas as pd"
   ]
  },
  {
   "cell_type": "code",
   "execution_count": 3,
   "id": "434b9927-b8f7-413e-aed0-15c83fd885cb",
   "metadata": {},
   "outputs": [],
   "source": [
    "conn = psycopg2.connect(database = \"warcraft_db\",\n",
    "                        user = \"postgres\",\n",
    "                        host = \"localhost\",\n",
    "                        password = \"postgres\",\n",
    "                        port = 5432)\n",
    "\n",
    "\n",
    "cur = conn.cursor()\n",
    "cur.execute('SELECT * FROM player;')\n",
    "rows = cur.fetchall()\n",
    "conn.commit()\n",
    "conn.close()"
   ]
  },
  {
   "cell_type": "code",
   "execution_count": 4,
   "id": "369ea9d5-ef80-4045-9654-0dd14633c7f3",
   "metadata": {},
   "outputs": [
    {
     "data": {
      "text/html": [
       "<div>\n",
       "<style scoped>\n",
       "    .dataframe tbody tr th:only-of-type {\n",
       "        vertical-align: middle;\n",
       "    }\n",
       "\n",
       "    .dataframe tbody tr th {\n",
       "        vertical-align: top;\n",
       "    }\n",
       "\n",
       "    .dataframe thead th {\n",
       "        text-align: right;\n",
       "    }\n",
       "</style>\n",
       "<table border=\"1\" class=\"dataframe\">\n",
       "  <thead>\n",
       "    <tr style=\"text-align: right;\">\n",
       "      <th></th>\n",
       "      <th>ID</th>\n",
       "      <th>Age</th>\n",
       "      <th>Gender</th>\n",
       "      <th>Sexuality</th>\n",
       "      <th>Country</th>\n",
       "      <th>Server</th>\n",
       "    </tr>\n",
       "  </thead>\n",
       "  <tbody>\n",
       "    <tr>\n",
       "      <th>0</th>\n",
       "      <td>1</td>\n",
       "      <td>18 to 30</td>\n",
       "      <td>Female</td>\n",
       "      <td>Bi/Pan</td>\n",
       "      <td>USA</td>\n",
       "      <td>PvE</td>\n",
       "    </tr>\n",
       "    <tr>\n",
       "      <th>1</th>\n",
       "      <td>2</td>\n",
       "      <td>18 to 30</td>\n",
       "      <td>Other</td>\n",
       "      <td>Gay</td>\n",
       "      <td>Indonesia</td>\n",
       "      <td>RP</td>\n",
       "    </tr>\n",
       "    <tr>\n",
       "      <th>2</th>\n",
       "      <td>3</td>\n",
       "      <td>18 to 30</td>\n",
       "      <td>Female</td>\n",
       "      <td>Bi/Pan</td>\n",
       "      <td>USA</td>\n",
       "      <td>PvE</td>\n",
       "    </tr>\n",
       "    <tr>\n",
       "      <th>3</th>\n",
       "      <td>4</td>\n",
       "      <td>18 to 30</td>\n",
       "      <td>Male</td>\n",
       "      <td>Gay</td>\n",
       "      <td>England</td>\n",
       "      <td>PvE</td>\n",
       "    </tr>\n",
       "    <tr>\n",
       "      <th>4</th>\n",
       "      <td>5</td>\n",
       "      <td>18 to 30</td>\n",
       "      <td>Male</td>\n",
       "      <td>Straight</td>\n",
       "      <td>usa</td>\n",
       "      <td>PvE</td>\n",
       "    </tr>\n",
       "  </tbody>\n",
       "</table>\n",
       "</div>"
      ],
      "text/plain": [
       "   ID       Age  Gender Sexuality    Country Server\n",
       "0   1  18 to 30  Female    Bi/Pan        USA    PvE\n",
       "1   2  18 to 30   Other       Gay  Indonesia     RP\n",
       "2   3  18 to 30  Female    Bi/Pan        USA    PvE\n",
       "3   4  18 to 30    Male       Gay    England    PvE\n",
       "4   5  18 to 30    Male  Straight        usa    PvE"
      ]
     },
     "execution_count": 4,
     "metadata": {},
     "output_type": "execute_result"
    }
   ],
   "source": [
    "df = pd.DataFrame(rows, columns=[\"ID\",\"Age\",\"Gender\", \"Sexuality\", \"Country\", \"Server\"])\n",
    "\n",
    "df.head()"
   ]
  },
  {
   "cell_type": "code",
   "execution_count": null,
   "id": "9c50f725-3971-4ec6-9361-f0e82641eaaf",
   "metadata": {},
   "outputs": [],
   "source": []
  },
  {
   "cell_type": "code",
   "execution_count": null,
   "id": "ad3fdcb8-f504-46ab-93a6-8efcf6e4a85f",
   "metadata": {},
   "outputs": [],
   "source": []
  }
 ],
 "metadata": {
  "kernelspec": {
   "display_name": "Python 3 (ipykernel)",
   "language": "python",
   "name": "python3"
  },
  "language_info": {
   "codemirror_mode": {
    "name": "ipython",
    "version": 3
   },
   "file_extension": ".py",
   "mimetype": "text/x-python",
   "name": "python",
   "nbconvert_exporter": "python",
   "pygments_lexer": "ipython3",
   "version": "3.12.4"
  }
 },
 "nbformat": 4,
 "nbformat_minor": 5
}
